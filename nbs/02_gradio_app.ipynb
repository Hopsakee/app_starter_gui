{
 "cells": [
  {
   "cell_type": "raw",
   "metadata": {},
   "source": [
    "---\n",
    "description: Creation of the Gradio GUI for the app\n",
    "output-file: gradio_app.html\n",
    "title: gradio_app\n",
    "\n",
    "---\n",
    "\n"
   ]
  },
  {
   "cell_type": "code",
   "execution_count": null,
   "metadata": {},
   "outputs": [],
   "source": [
    "#| default_exp gradio_app"
   ]
  },
  {
   "cell_type": "code",
   "execution_count": null,
   "metadata": {},
   "outputs": [
    {
     "ename": "ModuleNotFoundError",
     "evalue": "No module named 'app_starter_gui'",
     "output_type": "error",
     "traceback": [
      "\u001b[0;31m---------------------------------------------------------------------------\u001b[0m",
      "\u001b[0;31mModuleNotFoundError\u001b[0m                       Traceback (most recent call last)",
      "Cell \u001b[0;32mIn[2], line 3\u001b[0m\n\u001b[1;32m      1\u001b[0m \u001b[38;5;66;03m#| hide\u001b[39;00m\n\u001b[1;32m      2\u001b[0m \u001b[38;5;28;01mimport\u001b[39;00m\u001b[38;5;250m \u001b[39m\u001b[38;5;21;01mgradio\u001b[39;00m\u001b[38;5;250m \u001b[39m\u001b[38;5;28;01mas\u001b[39;00m\u001b[38;5;250m \u001b[39m\u001b[38;5;21;01mgr\u001b[39;00m\n\u001b[0;32m----> 3\u001b[0m \u001b[38;5;28;01mfrom\u001b[39;00m\u001b[38;5;250m \u001b[39m\u001b[38;5;21;01mapp_starter_gui\u001b[39;00m\u001b[38;5;21;01m.\u001b[39;00m\u001b[38;5;21;01mcore\u001b[39;00m\u001b[38;5;250m \u001b[39m\u001b[38;5;28;01mimport\u001b[39;00m Button, load_buttons\n\u001b[1;32m      4\u001b[0m \u001b[38;5;28;01mfrom\u001b[39;00m\u001b[38;5;250m \u001b[39m\u001b[38;5;21;01mapp_starter_gui\u001b[39;00m\u001b[38;5;21;01m.\u001b[39;00m\u001b[38;5;21;01mcss\u001b[39;00m\u001b[38;5;250m \u001b[39m\u001b[38;5;28;01mimport\u001b[39;00m generate_css\n",
      "\u001b[0;31mModuleNotFoundError\u001b[0m: No module named 'app_starter_gui'"
     ]
    }
   ],
   "source": [
    "#| export\n",
    "#| hide\n",
    "import gradio as gr\n",
    "from app_starter_gui.core import Button, load_buttons\n",
    "from app_starter_gui.css import generate_css"
   ]
  },
  {
   "cell_type": "code",
   "execution_count": null,
   "metadata": {},
   "outputs": [],
   "source": [
    "#| hide\n",
    "from nbdev.showdoc import show_doc"
   ]
  },
  {
   "cell_type": "code",
   "execution_count": null,
   "metadata": {},
   "outputs": [],
   "source": [
    "#| export\n",
    "def create_app(yaml_file='buttons.yaml', css_generator=generate_css):\n",
    "    \"\"\"Create a Gradio dashboard for the button interface\n",
    "    \n",
    "    Args:\n",
    "        yaml_file: Path to YAML file containing button data (default: 'buttons.yaml')\n",
    "        css_generator: Function to generate CSS (default: generate_css)\n",
    "    Returns:\n",
    "        gr.Blocks: Gradio interface\n",
    "    \"\"\"\n",
    "    buttons = load_buttons(yaml_file)\n",
    "    css = generate_css(buttons)\n",
    "    \n",
    "    with gr.Blocks(css=css) as blocks:\n",
    "        with gr.Column():\n",
    "            gr.HTML('<div class=\"button-grid\">' + \n",
    "                   ''.join([f'''\n",
    "                   <a href=\"{b.link_url}\" class=\"{b.app_type.lower()}\">\n",
    "                       <img src=\"{b.image_url}\" style=\"max-width:100%\"/>\n",
    "                       <p>{b.label}</p>\n",
    "                   </a>''' for b in buttons]) +\n",
    "                   '</div>')\n",
    "    return blocks"
   ]
  },
  {
   "cell_type": "code",
   "execution_count": null,
   "metadata": {},
   "outputs": [],
   "source": [
    "# Example usage\n",
    "app = create_app('test_buttons.yaml')"
   ]
  },
  {
   "cell_type": "code",
   "execution_count": null,
   "metadata": {},
   "outputs": [],
   "source": [
    "#| export\n",
    "#| hide\n",
    "from fastcore.test import *\n",
    "\n",
    "def test_create_app():\n",
    "    \"Test app creation with example buttons\"\n",
    "    app = create_app('test_buttons.yaml')\n",
    "    test(app, gr.Blocks, isinstance)\n",
    "    \n",
    "test_create_app()"
   ]
  },
  {
   "cell_type": "code",
   "execution_count": null,
   "metadata": {},
   "outputs": [],
   "source": [
    "#| hide\n",
    "import nbdev; nbdev.nbdev_export()"
   ]
  }
 ],
 "metadata": {
  "kernelspec": {
   "display_name": "python3",
   "language": "python",
   "name": "python3"
  }
 },
 "nbformat": 4,
 "nbformat_minor": 2
}
